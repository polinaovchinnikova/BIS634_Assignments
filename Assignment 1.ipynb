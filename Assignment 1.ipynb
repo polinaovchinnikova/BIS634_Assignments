{
 "cells": [
  {
   "cell_type": "markdown",
   "id": "0cd0bfbc",
   "metadata": {},
   "source": [
    "Exercise 1: "
   ]
  },
  {
   "cell_type": "code",
   "execution_count": null,
   "id": "f23b3961",
   "metadata": {},
   "outputs": [],
   "source": [
    "def temp_tester(temp):\n",
    "    \n",
    " def range_temp_function(x): \n",
    "    if x<= temp + 1 and x >= temp - 1:\n",
    "        return True \n",
    "    else: \n",
    "        return False\n",
    "    \n",
    " return range_temp_function\n"
   ]
  },
  {
   "cell_type": "code",
   "execution_count": null,
   "id": "6bb0466f",
   "metadata": {},
   "outputs": [],
   "source": [
    "human_tester = temp_tester(37)\n",
    "chicken_tester = temp_tester(41.1)"
   ]
  },
  {
   "cell_type": "code",
   "execution_count": null,
   "id": "626c97eb",
   "metadata": {},
   "outputs": [],
   "source": [
    "# Example to test plot function\n",
    "print(chicken_tester(42)) \n",
    "print(human_tester(42))  \n",
    "print(chicken_tester(43)) \n",
    "print(human_tester(35)) \n",
    "print(human_tester(98.6)) "
   ]
  },
  {
   "cell_type": "markdown",
   "id": "ac8b0084",
   "metadata": {},
   "source": [
    "Exercise 2: "
   ]
  },
  {
   "cell_type": "code",
   "execution_count": null,
   "id": "af904c60",
   "metadata": {},
   "outputs": [],
   "source": [
    "import pandas as pd\n",
    "import sqlite3\n",
    "with sqlite3.connect(\"/Users/polina/Desktop/hw1-population.db\") as db:\n",
    "    data = pd.read_sql_query(\"SELECT * FROM population\", db)\n",
    "    data.head"
   ]
  },
  {
   "cell_type": "code",
   "execution_count": null,
   "id": "8bcabd8c",
   "metadata": {},
   "outputs": [],
   "source": [
    "data.head"
   ]
  },
  {
   "cell_type": "code",
   "execution_count": null,
   "id": "6a6b81c1",
   "metadata": {},
   "outputs": [],
   "source": [
    "#Age\n",
    "data.describe()[[\"age\"]]"
   ]
  },
  {
   "cell_type": "code",
   "execution_count": null,
   "id": "4ba5cf4e",
   "metadata": {},
   "outputs": [],
   "source": [
    "! conda install -c conda-forge plotnine -y"
   ]
  },
  {
   "cell_type": "code",
   "execution_count": null,
   "id": "28d25bcf",
   "metadata": {},
   "outputs": [],
   "source": [
    "from plotnine import *"
   ]
  },
  {
   "cell_type": "code",
   "execution_count": null,
   "id": "df785048",
   "metadata": {},
   "outputs": [],
   "source": [
    "#Find bin width \n",
    "import math \n",
    "log2 = math.log2(152361)+1  \n",
    "log2"
   ]
  },
  {
   "cell_type": "code",
   "execution_count": null,
   "id": "4b313f2d",
   "metadata": {},
   "outputs": [],
   "source": [
    "data.hist(column = 'age', bins = 18)"
   ]
  },
  {
   "cell_type": "code",
   "execution_count": null,
   "id": "39330ea8",
   "metadata": {},
   "outputs": [],
   "source": [
    "#Weight\n",
    "data.describe()[[\"weight\"]]"
   ]
  },
  {
   "cell_type": "code",
   "execution_count": null,
   "id": "4354f5ce",
   "metadata": {},
   "outputs": [],
   "source": [
    "data.hist(column = 'weight', bins = 18)"
   ]
  },
  {
   "cell_type": "code",
   "execution_count": null,
   "id": "5fa201c9",
   "metadata": {
    "scrolled": true
   },
   "outputs": [],
   "source": [
    "import plotly.express as px \n",
    "fig = px.scatter(data, x=\"age\", y=\"weight\")\n",
    "fig.show()"
   ]
  },
  {
   "cell_type": "code",
   "execution_count": null,
   "id": "b15afab0",
   "metadata": {},
   "outputs": [],
   "source": [
    "# Filter to detect outlier\n",
    "data[(data['age'] > 20) & ((data['weight'] < 40)|(data['weight'] > 100))]"
   ]
  },
  {
   "cell_type": "code",
   "execution_count": null,
   "id": "f9280c39",
   "metadata": {},
   "outputs": [],
   "source": [
    "# Filter for Anthony Freeman\n",
    "data[(data['age'] == 41.3) | (data['weight'] == 21.7)]"
   ]
  },
  {
   "cell_type": "markdown",
   "id": "4885248e",
   "metadata": {},
   "source": [
    "Exercise 3: "
   ]
  },
  {
   "cell_type": "code",
   "execution_count": null,
   "id": "68d30c88",
   "metadata": {},
   "outputs": [],
   "source": [
    "import numpy as np\n",
    "from matplotlib import pyplot as plt\n",
    "import pandas as pd\n",
    "url = 'https://raw.githubusercontent.com/nytimes/covid-19-data/master/us-states.csv'\n",
    "df = pd.read_csv(url)\n",
    "df.head()"
   ]
  },
  {
   "cell_type": "code",
   "execution_count": null,
   "id": "175b1981",
   "metadata": {},
   "outputs": [],
   "source": [
    "# convert the 'Date' column to datetime format\n",
    "df['date']= pd.to_datetime(df['date'])\n",
    "# Check the format of 'Date' column\n",
    "df.info()"
   ]
  },
  {
   "cell_type": "code",
   "execution_count": null,
   "id": "35f5c1b3",
   "metadata": {},
   "outputs": [],
   "source": [
    "#look for new cases \n",
    "(df\n",
    " .groupby(['state'])\n",
    " .cases\n",
    " .diff()\n",
    ")"
   ]
  },
  {
   "cell_type": "code",
   "execution_count": null,
   "id": "a5dbbcc0",
   "metadata": {},
   "outputs": [],
   "source": [
    "def plot(state_list):\n",
    "    plt.figure(figsize=(30,20))\n",
    "    for state in state_list:\n",
    "        df_new = df[df['state']==state]\n",
    "        df_new['cases'] = df_new['cases'].diff()\n",
    "        plt.plot(df_new['date'], df_new['cases'], label=state)\n",
    "    plt.legend()\n",
    "    plt.title('New Cases vs Date')\n",
    "    plt.xlabel('Date')\n",
    "    plt.ylabel('New Cases')\n",
    "    plt.show()"
   ]
  },
  {
   "cell_type": "code",
   "execution_count": null,
   "id": "4ed1609e",
   "metadata": {},
   "outputs": [],
   "source": [
    "# Example to test plot function\n",
    "state_list = ['Wyoming', 'Northern Mariana Islands', 'Massachusetts', 'Connecticut']\n",
    "plot(state_list)"
   ]
  },
  {
   "cell_type": "code",
   "execution_count": null,
   "id": "6dcf8832",
   "metadata": {},
   "outputs": [],
   "source": [
    "def highest_case(state):\n",
    "    df_new_date = df[df[\"state\"] == state]\n",
    "    df_new_date['cases'] = df_new_date['cases'].diff()\n",
    "    date = df_new_date[df_new_date['cases'] == np.max(df_new_date['cases'])]['date']\n",
    "    return date.iloc[0]    "
   ]
  },
  {
   "cell_type": "code",
   "execution_count": null,
   "id": "c63a83b0",
   "metadata": {},
   "outputs": [],
   "source": [
    "# Example to test plot function\n",
    "print(highest_case('Washington'))\n",
    "print(highest_case('Illinois'))\n",
    "print(highest_case('Massachusetts'))"
   ]
  },
  {
   "cell_type": "code",
   "execution_count": null,
   "id": "b9be7ec3",
   "metadata": {},
   "outputs": [],
   "source": [
    "def peak(state1, state2):\n",
    "    df_peak_1 = (highest_case(state1))\n",
    "    df_peak_2 = (highest_case(state2))\n",
    "\n",
    "    if df_peak_1 >  df_peak_2:\n",
    "        print(state2, 'had its highest number of daily new cases by', abs((df_peak_1 - df_peak_2).days, 'days'))\n",
    "    elif df_peak_1 < df_peak_2:\n",
    "        print(state1, 'had its highest number of daily new cases by', abs((df_peak_1 - df_peak_2).days), 'days')\n",
    "    else:\n",
    "        print(state1, 'and', state2, 'had its highest number of daily new cases on', df_peak_1)"
   ]
  },
  {
   "cell_type": "code",
   "execution_count": null,
   "id": "dcedea69",
   "metadata": {},
   "outputs": [],
   "source": [
    "# Example to test plot function\n",
    "peak('Massachusetts', 'Connecticut')\n",
    "peak('Florida', 'Washington')\n",
    "peak('Ohio','Montana')"
   ]
  },
  {
   "cell_type": "markdown",
   "id": "40bc6b28",
   "metadata": {},
   "source": [
    "Exercise 4: "
   ]
  },
  {
   "cell_type": "code",
   "execution_count": null,
   "id": "23ae1184",
   "metadata": {},
   "outputs": [],
   "source": [
    "import xml.etree.ElementTree as ET\n",
    "from pprint import pprint as pp \n",
    "tree = ET.parse('/Users/polina/Desktop/desc2022.xml')\n",
    "root = tree.getroot()"
   ]
  },
  {
   "cell_type": "code",
   "execution_count": null,
   "id": "30d35301",
   "metadata": {},
   "outputs": [],
   "source": [
    "pp(root)"
   ]
  },
  {
   "cell_type": "code",
   "execution_count": null,
   "id": "f078fafe",
   "metadata": {},
   "outputs": [],
   "source": [
    "desk1 = root[0]\n",
    "desk1_xml = ET.tostring(desk1)\n",
    "print(desk1_xml)"
   ]
  },
  {
   "cell_type": "code",
   "execution_count": null,
   "id": "91784ec1",
   "metadata": {},
   "outputs": [],
   "source": [
    "ET.indent(desk1)\n",
    "print(ET.tostring(desk1).decode('utf-8'))"
   ]
  },
  {
   "cell_type": "code",
   "execution_count": null,
   "id": "38794049",
   "metadata": {},
   "outputs": [],
   "source": [
    "#Select the child by using its tag name\n",
    "Descriptor1 = desk1.find(\"DescriptorUI\") \n",
    "pp(Descriptor1)"
   ]
  },
  {
   "cell_type": "code",
   "execution_count": null,
   "id": "a70e6ec2",
   "metadata": {},
   "outputs": [],
   "source": [
    "ui_1 = Descriptor1.text\n",
    "pp(ui_1)"
   ]
  },
  {
   "cell_type": "code",
   "execution_count": null,
   "id": "b2e2a9c1",
   "metadata": {},
   "outputs": [],
   "source": [
    "def find_ui(ui):\n",
    "    for child in root:\n",
    "        if child[0].text == ui: \n",
    "            return child[1][0].text "
   ]
  },
  {
   "cell_type": "code",
   "execution_count": null,
   "id": "fca1a2eb",
   "metadata": {},
   "outputs": [],
   "source": [
    "print(find_ui('D007154'))"
   ]
  },
  {
   "cell_type": "code",
   "execution_count": null,
   "id": "dc53f97d",
   "metadata": {},
   "outputs": [],
   "source": [
    "def find_name(name):\n",
    "    for child in root:\n",
    "        if child[1][0].text == name: \n",
    "            return child[0].text  "
   ]
  },
  {
   "cell_type": "code",
   "execution_count": null,
   "id": "76236ae3",
   "metadata": {},
   "outputs": [],
   "source": [
    "print(find_name('Nervous System Diseases'))"
   ]
  },
  {
   "cell_type": "code",
   "execution_count": null,
   "id": "f1f430f1",
   "metadata": {},
   "outputs": [],
   "source": [
    "def treeNumber_find(name):\n",
    "    if not 'D0' in name: \n",
    "        name = find_name(name)\n",
    "    for child in root:\n",
    "        if child[0].text == name:\n",
    "            for record in child.iter('TreeNumberList'):\n",
    "                return record[0].text"
   ]
  },
  {
   "cell_type": "code",
   "execution_count": null,
   "id": "94f8bc75",
   "metadata": {},
   "outputs": [],
   "source": [
    "print(treeNumber_find('Nervous System Diseases'))\n",
    "print(treeNumber_find('D007154'))"
   ]
  },
  {
   "cell_type": "code",
   "execution_count": null,
   "id": "2f3c4ff6",
   "metadata": {},
   "outputs": [],
   "source": [
    "def descendents_common(descendents1, descendents2): \n",
    "    \n",
    "    \n",
    "    descendentsTree1 = treeNumber_find(descendents1) + '.'\n",
    "    descendentsTree2 = treeNumber_find (descendents2) + '.'\n",
    "    \n",
    "    answer = set()  ## empty set\n",
    "    \n",
    "    for child in root:\n",
    "        for record in child.iter('TreeNumberList'): \n",
    "            for treeNumber in record:   \n",
    "                if descendentsTree1 in treeNumber.text:\n",
    "                    for treeNumber in record:\n",
    "                        if descendentsTree2 in treeNumber.text:\n",
    "                            answer.add(child[1][0].text) \n",
    "    return answer "
   ]
  },
  {
   "cell_type": "code",
   "execution_count": null,
   "id": "b02e136c",
   "metadata": {},
   "outputs": [],
   "source": [
    "print(descendents_common('Nervous System Diseases', 'D007154'))"
   ]
  }
 ],
 "metadata": {
  "kernelspec": {
   "display_name": "Python 3 (ipykernel)",
   "language": "python",
   "name": "python3"
  },
  "language_info": {
   "codemirror_mode": {
    "name": "ipython",
    "version": 3
   },
   "file_extension": ".py",
   "mimetype": "text/x-python",
   "name": "python",
   "nbconvert_exporter": "python",
   "pygments_lexer": "ipython3",
   "version": "3.9.12"
  }
 },
 "nbformat": 4,
 "nbformat_minor": 5
}
