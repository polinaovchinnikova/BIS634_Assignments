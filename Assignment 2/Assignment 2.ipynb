{
 "cells": [
  {
   "cell_type": "code",
   "execution_count": 14,
   "id": "a9df3b3e",
   "metadata": {},
   "outputs": [
    {
     "ename": "SyntaxError",
     "evalue": "invalid syntax (1906331038.py, line 2)",
     "output_type": "error",
     "traceback": [
      "\u001b[0;36m  Cell \u001b[0;32mIn [14], line 2\u001b[0;36m\u001b[0m\n\u001b[0;31m    pip install numpy\u001b[0m\n\u001b[0m        ^\u001b[0m\n\u001b[0;31mSyntaxError\u001b[0m\u001b[0;31m:\u001b[0m invalid syntax\n"
     ]
    }
   ],
   "source": [
    "# import libraries\n",
    "import pandas as pd\n",
    "import numpy as np\n",
    "import random"
   ]
  },
  {
   "cell_type": "markdown",
   "id": "74f9c9fc",
   "metadata": {},
   "source": [
    "Exercise 3:"
   ]
  },
  {
   "cell_type": "code",
   "execution_count": 2,
   "id": "df587722",
   "metadata": {},
   "outputs": [],
   "source": [
    "class Tree:\n",
    "    def __init__(self):\n",
    "        self.value = None\n",
    "        self.left = None\n",
    "        self.right = None\n",
    "\n",
    "    def add(self, item):\n",
    "        if self.value is None:\n",
    "            self.value = item\n",
    "            return \n",
    "        \n",
    "        elif item < self.value:\n",
    "            if self.left:\n",
    "                self.left.add(item)\n",
    "            else:\n",
    "                self.left = Tree()\n",
    "                self.left.add(item)\n",
    "            return\n",
    "        \n",
    "        elif item > self.value:\n",
    "            if self.right:\n",
    "                self.right.add(item)\n",
    "            else:\n",
    "                self.right = Tree()\n",
    "                self.right.add(item)\n",
    "        return\n",
    "    \n",
    "    def __contains__(self, item):\n",
    "        if self.value == item:\n",
    "            return True\n",
    "        elif self.left and item < self.value:\n",
    "            return item in self.left\n",
    "        elif self.right and item > self.value:\n",
    "            return item in self.right\n",
    "        else:\n",
    "            return False"
   ]
  },
  {
   "cell_type": "code",
   "execution_count": 3,
   "id": "9e5fbee7",
   "metadata": {},
   "outputs": [],
   "source": [
    "def printTree(tree, list=[]):\n",
    "    if not tree: return []\n",
    "    list.append(tree.value)\n",
    "    if tree.left: printTree(tree.left, list)\n",
    "    if tree.right: printTree(tree.right, list)\n",
    "    return list"
   ]
  },
  {
   "cell_type": "code",
   "execution_count": 4,
   "id": "e31f797f",
   "metadata": {},
   "outputs": [
    {
     "name": "stdout",
     "output_type": "stream",
     "text": [
      "[55, 37, 14, 17, 49, 62, 71]\n"
     ]
    }
   ],
   "source": [
    "my_tree = Tree()\n",
    "for item in [55, 62, 37, 49, 71, 14, 17]:\n",
    "     my_tree.add(item)\n",
    "print(printTree(my_tree, list=[]))"
   ]
  },
  {
   "cell_type": "code",
   "execution_count": 5,
   "id": "ff1c468d",
   "metadata": {},
   "outputs": [
    {
     "data": {
      "text/plain": [
       "True"
      ]
     },
     "execution_count": 5,
     "metadata": {},
     "output_type": "execute_result"
    }
   ],
   "source": [
    "my_tree.__contains__(55)"
   ]
  },
  {
   "cell_type": "code",
   "execution_count": 6,
   "id": "b14a4626",
   "metadata": {},
   "outputs": [
    {
     "data": {
      "text/plain": [
       "False"
      ]
     },
     "execution_count": 6,
     "metadata": {},
     "output_type": "execute_result"
    }
   ],
   "source": [
    "my_tree.__contains__(42)"
   ]
  },
  {
   "cell_type": "markdown",
   "id": "ae34ce6b",
   "metadata": {},
   "source": [
    "Using various sizes n of trees (populated with random data) and sufficiently many calls to in (each individual call should be very fast, so you may have to run many repeated tests), demonstrate that in is executing in O(log n) times; on a log-log plot, for sufficiently large n, the graph of time required for checking if a number is in the tree as a function of n should be almost horizontal. "
   ]
  },
  {
   "cell_type": "code",
   "execution_count": 8,
   "id": "a61e302e",
   "metadata": {},
   "outputs": [
    {
     "ename": "ModuleNotFoundError",
     "evalue": "No module named 'matplotlib'",
     "output_type": "error",
     "traceback": [
      "\u001b[0;31m---------------------------------------------------------------------------\u001b[0m",
      "\u001b[0;31mModuleNotFoundError\u001b[0m                       Traceback (most recent call last)",
      "Cell \u001b[0;32mIn [8], line 5\u001b[0m\n\u001b[1;32m      3\u001b[0m \u001b[38;5;28;01mimport\u001b[39;00m \u001b[38;5;21;01mmath\u001b[39;00m\n\u001b[1;32m      4\u001b[0m \u001b[38;5;28;01mimport\u001b[39;00m \u001b[38;5;21;01mstatistics\u001b[39;00m\n\u001b[0;32m----> 5\u001b[0m \u001b[38;5;28;01mimport\u001b[39;00m \u001b[38;5;21;01mmatplotlib\u001b[39;00m\u001b[38;5;21;01m.\u001b[39;00m\u001b[38;5;21;01mpyplot\u001b[39;00m \u001b[38;5;28;01mas\u001b[39;00m \u001b[38;5;21;01mplt\u001b[39;00m\n",
      "\u001b[0;31mModuleNotFoundError\u001b[0m: No module named 'matplotlib'"
     ]
    }
   ],
   "source": [
    "import random\n",
    "import time\n",
    "import math\n",
    "import statistics\n",
    "import matplotlib.pyplot as plt"
   ]
  },
  {
   "cell_type": "markdown",
   "id": "2a5621b2",
   "metadata": {},
   "source": [
    "O(log n) times"
   ]
  },
  {
   "cell_type": "code",
   "execution_count": 9,
   "id": "49f4ae09",
   "metadata": {},
   "outputs": [],
   "source": [
    "test_time = []\n",
    "n_sample = 1000\n",
    "repeat = 100\n",
    "for _ in range(n_sample):\n",
    "    n = random.randint(0, 10000)\n",
    "    my_tree = Tree()\n",
    "    for _ in range(n):\n",
    "        my_tree.add(random.random())\n",
    "    start = time.time()\n",
    "    for _ in range(repeat):\n",
    "        my_tree.__contains__(random.random())\n",
    "    end = time.time()\n",
    "    test_time.append((end - start, n))\n"
   ]
  },
  {
   "cell_type": "code",
   "execution_count": 10,
   "id": "e4215b23",
   "metadata": {},
   "outputs": [
    {
     "ename": "NameError",
     "evalue": "name 'plt' is not defined",
     "output_type": "error",
     "traceback": [
      "\u001b[0;31m---------------------------------------------------------------------------\u001b[0m",
      "\u001b[0;31mNameError\u001b[0m                                 Traceback (most recent call last)",
      "Cell \u001b[0;32mIn [10], line 1\u001b[0m\n\u001b[0;32m----> 1\u001b[0m \u001b[43mplt\u001b[49m\u001b[38;5;241m.\u001b[39mscatter([x[\u001b[38;5;241m1\u001b[39m] \u001b[38;5;28;01mfor\u001b[39;00m x \u001b[38;5;129;01min\u001b[39;00m test_time], [x[\u001b[38;5;241m0\u001b[39m] \u001b[38;5;28;01mfor\u001b[39;00m x \u001b[38;5;129;01min\u001b[39;00m test_time], s\u001b[38;5;241m=\u001b[39m\u001b[38;5;241m1\u001b[39m)\n\u001b[1;32m      2\u001b[0m plt\u001b[38;5;241m.\u001b[39mshow()\n",
      "\u001b[0;31mNameError\u001b[0m: name 'plt' is not defined"
     ]
    }
   ],
   "source": [
    "plt.scatter([x[1] for x in test_time], [x[0] for x in test_time], s=1)\n",
    "plt.show()"
   ]
  },
  {
   "cell_type": "markdown",
   "id": "d47e6a8c",
   "metadata": {},
   "source": [
    "This speed is not free. Provide supporting evidence that the time to setup the tree is O(n log n) by timing it for various sized ns and showing that the runtime lies between a curve that is O(n) and one that is O(n**2)"
   ]
  },
  {
   "cell_type": "markdown",
   "id": "2ac7b71a",
   "metadata": {},
   "source": [
    "O(n)"
   ]
  },
  {
   "cell_type": "code",
   "execution_count": 15,
   "id": "5414a507",
   "metadata": {},
   "outputs": [],
   "source": [
    "test_time_2 = []\n",
    "n_sample = 100\n",
    "repeat = 10\n",
    "for _ in range(n_sample):\n",
    "    n = random.randint(0, 10000)\n",
    "    secquence = [random.random() for _ in range(n)]\n",
    "    start = time.time()\n",
    "    for _ in range(repeat):\n",
    "        my_tree = Tree()\n",
    "        for i in secquence:\n",
    "            my_tree.add(i)\n",
    "    end = time.time()\n",
    "    test_time_2.append((end - start, n))"
   ]
  },
  {
   "cell_type": "code",
   "execution_count": 11,
   "id": "5d5324ba",
   "metadata": {},
   "outputs": [
    {
     "data": {
      "image/png": "[encoded data removed]",
      "text/plain": [
       "<Figure size 432x288 with 1 Axes>"
      ]
     },
     "metadata": {
      "needs_background": "light"
     },
     "output_type": "display_data"
    }
   ],
   "source": [
    "plt.scatter([x[1] for x in test_time_2], [x[0] for x in test_time_2], s=1)\n",
    "plt.show()"
   ]
  },
  {
   "cell_type": "markdown",
   "id": "ba6f990e",
   "metadata": {},
   "source": [
    "O(n**2)"
   ]
  },
  {
   "cell_type": "code",
   "execution_count": 16,
   "id": "204ff52e",
   "metadata": {},
   "outputs": [],
   "source": [
    "test_time_3 = []\n",
    "n_sample = 100\n",
    "repeat = 10\n",
    "for _ in range(n_sample):\n",
    "    n = random.randint(0, 200)\n",
    "    secquence = [random.random() for _ in range(n)]\n",
    "    secquence = sorted(secquence)\n",
    "    start = time.time()\n",
    "    for _ in range(repeat):\n",
    "        my_tree = Tree()\n",
    "        for i in secquence:\n",
    "            my_tree.add(i)\n",
    "    end = time.time()\n",
    "    test_time_3.append((end - start, n))\n"
   ]
  },
  {
   "cell_type": "code",
   "execution_count": 13,
   "id": "0cdfbdc5",
   "metadata": {},
   "outputs": [
    {
     "data": {
      "image/png": "[encoded data removed]",
      "text/plain": [
       "<Figure size 432x288 with 1 Axes>"
      ]
     },
     "metadata": {
      "needs_background": "light"
     },
     "output_type": "display_data"
    }
   ],
   "source": [
    "plt.scatter([x[1] for x in test_time_3], [x[0] for x in test_time_3], s=1)\n",
    "plt.show()"
   ]
  },
  {
   "cell_type": "markdown",
   "id": "ce694b6e",
   "metadata": {},
   "source": [
    "n**2, and n"
   ]
  },
  {
   "cell_type": "code",
   "execution_count": 17,
   "id": "5087e191",
   "metadata": {},
   "outputs": [],
   "source": [
    "def time_function(n):\n",
    "    timing = []\n",
    "    n = [random.randint(1,n) for _ in range(n)]\n",
    "    for attempt in [i for i in range(100)]:\n",
    "        start = time.time\n",
    "        my_tree = Tree()\n",
    "        for item in n:\n",
    "            my_tree.add(item)\n",
    "        end = time.time()\n",
    "        timing.append(end - start)\n",
    "    return min(times)"
   ]
  },
  {
   "cell_type": "code",
   "execution_count": 22,
   "id": "d5781f8b",
   "metadata": {},
   "outputs": [
    {
     "ename": "TypeError",
     "evalue": "unsupported operand type(s) for -: 'float' and 'builtin_function_or_method'",
     "output_type": "error",
     "traceback": [
      "\u001b[0;31m---------------------------------------------------------------------------\u001b[0m",
      "\u001b[0;31mTypeError\u001b[0m                                 Traceback (most recent call last)",
      "Cell \u001b[0;32mIn [22], line 2\u001b[0m\n\u001b[1;32m      1\u001b[0m n_size \u001b[38;5;241m=\u001b[39m [\u001b[38;5;241m1\u001b[39m,\u001b[38;5;241m100\u001b[39m,\u001b[38;5;241m1000\u001b[39m,\u001b[38;5;241m10000\u001b[39m] \n\u001b[0;32m----> 2\u001b[0m true_size \u001b[38;5;241m=\u001b[39m [time_function(n) \u001b[38;5;28;01mfor\u001b[39;00m n \u001b[38;5;129;01min\u001b[39;00m n_size]\n\u001b[1;32m      3\u001b[0m size \u001b[38;5;241m=\u001b[39m true_size [\u001b[38;5;241m0\u001b[39m]\n\u001b[1;32m      4\u001b[0m quadratic \u001b[38;5;241m=\u001b[39m [size\u001b[38;5;241m*\u001b[39m(n\u001b[38;5;241m*\u001b[39m\u001b[38;5;241m*\u001b[39m\u001b[38;5;241m2\u001b[39m) \u001b[38;5;28;01mfor\u001b[39;00m n \u001b[38;5;129;01min\u001b[39;00m n_size] \n",
      "Cell \u001b[0;32mIn [22], line 2\u001b[0m, in \u001b[0;36m<listcomp>\u001b[0;34m(.0)\u001b[0m\n\u001b[1;32m      1\u001b[0m n_size \u001b[38;5;241m=\u001b[39m [\u001b[38;5;241m1\u001b[39m,\u001b[38;5;241m100\u001b[39m,\u001b[38;5;241m1000\u001b[39m,\u001b[38;5;241m10000\u001b[39m] \n\u001b[0;32m----> 2\u001b[0m true_size \u001b[38;5;241m=\u001b[39m [\u001b[43mtime_function\u001b[49m\u001b[43m(\u001b[49m\u001b[43mn\u001b[49m\u001b[43m)\u001b[49m \u001b[38;5;28;01mfor\u001b[39;00m n \u001b[38;5;129;01min\u001b[39;00m n_size]\n\u001b[1;32m      3\u001b[0m size \u001b[38;5;241m=\u001b[39m true_size [\u001b[38;5;241m0\u001b[39m]\n\u001b[1;32m      4\u001b[0m quadratic \u001b[38;5;241m=\u001b[39m [size\u001b[38;5;241m*\u001b[39m(n\u001b[38;5;241m*\u001b[39m\u001b[38;5;241m*\u001b[39m\u001b[38;5;241m2\u001b[39m) \u001b[38;5;28;01mfor\u001b[39;00m n \u001b[38;5;129;01min\u001b[39;00m n_size] \n",
      "Cell \u001b[0;32mIn [17], line 10\u001b[0m, in \u001b[0;36mtime_function\u001b[0;34m(n)\u001b[0m\n\u001b[1;32m      8\u001b[0m         my_tree\u001b[38;5;241m.\u001b[39madd(item)\n\u001b[1;32m      9\u001b[0m     end \u001b[38;5;241m=\u001b[39m time\u001b[38;5;241m.\u001b[39mtime()\n\u001b[0;32m---> 10\u001b[0m     timing\u001b[38;5;241m.\u001b[39mappend(\u001b[43mend\u001b[49m\u001b[43m \u001b[49m\u001b[38;5;241;43m-\u001b[39;49m\u001b[43m \u001b[49m\u001b[43mstart\u001b[49m)\n\u001b[1;32m     11\u001b[0m \u001b[38;5;28;01mreturn\u001b[39;00m \u001b[38;5;28mmin\u001b[39m(times)\n",
      "\u001b[0;31mTypeError\u001b[0m: unsupported operand type(s) for -: 'float' and 'builtin_function_or_method'"
     ]
    }
   ],
   "source": [
    "n_size = [1,100,1000,10000] \n",
    "true_size = [time_function(n) for n in n_size]\n",
    "size = true_size [0]\n",
    "quadratic = [size*(n**2) for n in n_size] \n",
    "linear = [size*n for n in n_size]\n",
    "plt.plot(n_size,true_size)\n",
    "plt.plot(n_size,quadratic)\n",
    "plt.plot(n_size,linear)\n",
    "plt.xscale('log')\n",
    "plt.yscale('log')\n",
    "plt.ylabel('time')\n",
    "plt.xlabel('n_size')\n",
    "plt.legend(['run time','n^2','n'],loc = 'upper left')\n",
    "plt.show()"
   ]
  },
  {
   "cell_type": "code",
   "execution_count": null,
   "id": "d3733d5a",
   "metadata": {},
   "outputs": [],
   "source": []
  },
  {
   "cell_type": "code",
   "execution_count": null,
   "id": "b8a240e2",
   "metadata": {},
   "outputs": [],
   "source": []
  },
  {
   "cell_type": "markdown",
   "id": "0e5e4f0b",
   "metadata": {},
   "source": [
    "Exercise 2:"
   ]
  },
  {
   "cell_type": "code",
   "execution_count": null,
   "id": "74a8f2a6",
   "metadata": {},
   "outputs": [],
   "source": [
    "#2\n",
    "with open('/Users/polina/Desktop/words.txt') as f:\n",
    "    for line in f:\n",
    "        word = line.strip()\n",
    "        # do something with the word here"
   ]
  },
  {
   "cell_type": "code",
   "execution_count": null,
   "id": "7a0b3c22",
   "metadata": {},
   "outputs": [],
   "source": []
  },
  {
   "cell_type": "code",
   "execution_count": null,
   "id": "afc13ec4",
   "metadata": {
    "scrolled": true
   },
   "outputs": [],
   "source": [
    "import bitarray\n",
    "data = bitarray.bitarray(size)"
   ]
  },
  {
   "cell_type": "code",
   "execution_count": null,
   "id": "e5edc5f1",
   "metadata": {},
   "outputs": [],
   "source": [
    "import mmh3\n",
    "\n",
    "class BloomFilter(set):\n",
    "\n",
    "    def __init__(self, size, hash_count):\n",
    "        super(BloomFilter, self).__init__()\n",
    "        self.bit_array = bitarray(size)\n",
    "        self.bit_array.setall(0)\n",
    "        self.size = size\n",
    "        self.hash_count = hash_count\n",
    "\n",
    "    def __len__(self):\n",
    "        return self.size\n",
    "\n",
    "    def __iter__(self):\n",
    "        return iter(self.bit_array)\n",
    "\n",
    "    def add(self, item):\n",
    "        for ii in range(self.hash_count):\n",
    "            index = mmh3.hash(item, ii) % self.size\n",
    "            self.bit_array[index] = 1\n",
    "\n",
    "        return self\n",
    "\n",
    "    def __contains__(self, item):\n",
    "        out = True\n",
    "        for ii in range(self.hash_count):\n",
    "            index = mmh3.hash(item, ii) % self.size\n",
    "            if self.bit_array[index] == 0:\n",
    "                out = False\n",
    "\n",
    "        return out"
   ]
  },
  {
   "cell_type": "code",
   "execution_count": null,
   "id": "5db23590",
   "metadata": {},
   "outputs": [],
   "source": []
  },
  {
   "cell_type": "code",
   "execution_count": null,
   "id": "8565e2cd",
   "metadata": {},
   "outputs": [],
   "source": []
  },
  {
   "cell_type": "markdown",
   "id": "2b424104",
   "metadata": {},
   "source": [
    "Exercise 4:"
   ]
  },
  {
   "cell_type": "code",
   "execution_count": null,
   "id": "eb3ab76b",
   "metadata": {},
   "outputs": [],
   "source": [
    "def alg1(data):\n",
    "    data = list(data)\n",
    "    changes = True\n",
    "    while changes:\n",
    "        changes = False\n",
    "    for i in range(len(data) - 1):\n",
    "          if data[i + 1] < data[i]:\n",
    "            data[i], data[i + 1] = data[i + 1], data[i]\n",
    "            changes = True\n",
    "    return data"
   ]
  },
  {
   "cell_type": "code",
   "execution_count": null,
   "id": "c39fc8d7",
   "metadata": {},
   "outputs": [],
   "source": [
    "def alg2(data):\n",
    "    if len(data) <= 1:\n",
    "        return data\n",
    "    else:\n",
    "        split = len(data) // 2\n",
    "        left = iter(alg2(data[:split]))\n",
    "        right = iter(alg2(data[split:]))\n",
    "        result = []\n",
    "    # note: this takes the top items off the left and right piles\n",
    "        left_top = next(left)\n",
    "        right_top = next(right)\n",
    "        while True:\n",
    "              if left_top < right_top:\n",
    "                result.append(left_top)\n",
    "                try:\n",
    "                    left_top = next(left)\n",
    "                except StopIteration:\n",
    "          # nothing remains on the left; add the right + return\n",
    "                  return result + [right_top] + list(right)\n",
    "          else:\n",
    "            result.append(right_top)\n",
    "            try:\n",
    "            right_top = next(right)\n",
    "            except StopIteration:\n",
    "          # nothing remains on the right; add the left + return\n",
    "            return result + [left_top] + list(left)"
   ]
  },
  {
   "cell_type": "code",
   "execution_count": null,
   "id": "f8d6ccb9",
   "metadata": {},
   "outputs": [],
   "source": []
  }
 ],
 "metadata": {
  "kernelspec": {
   "display_name": "Python 3.10.7 64-bit",
   "language": "python",
   "name": "python3"
  },
  "language_info": {
   "codemirror_mode": {
    "name": "ipython",
    "version": 3
   },
   "file_extension": ".py",
   "mimetype": "text/x-python",
   "name": "python",
   "nbconvert_exporter": "python",
   "pygments_lexer": "ipython3",
   "version": "3.10.7"
  },
  "vscode": {
   "interpreter": {
    "hash": "aee8b7b246df8f9039afb4144a1f6fd8d2ca17a180786b69acc140d282b71a49"
   }
  }
 },
 "nbformat": 4,
 "nbformat_minor": 5
}
